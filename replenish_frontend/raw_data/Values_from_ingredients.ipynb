{
 "cells": [
  {
   "cell_type": "code",
   "execution_count": 1,
   "id": "fe71f6bb-b6a8-4e94-943b-ef2962078d96",
   "metadata": {},
   "outputs": [
    {
     "data": {
      "text/plain": [
       "'/home/maaviya/code/mfaruki/replenish/notebooks'"
      ]
     },
     "execution_count": 1,
     "metadata": {},
     "output_type": "execute_result"
    }
   ],
   "source": [
    "pwd"
   ]
  },
  {
   "cell_type": "code",
   "execution_count": 2,
   "id": "e858edec-9abd-4d84-a56e-4925a26d4202",
   "metadata": {},
   "outputs": [],
   "source": [
    "import pandas as pd\n",
    "import numpy as np\n",
    "import matplotlib.pyplot as plt\n",
    "import nltk\n",
    "from nltk.stem import WordNetLemmatizer\n",
    "import string\n",
    "\n",
    "# Importing the uncleaned dataframe\n",
    "all_cuisine_df = pd.read_csv('../raw_data/all_cuisine_df.csv', index_col=0)"
   ]
  },
  {
   "cell_type": "markdown",
   "id": "ebe8db4a-4d21-4ef0-a0fc-2b62b68f47a1",
   "metadata": {},
   "source": [
    "# Long Stopwords"
   ]
  },
  {
   "cell_type": "code",
   "execution_count": 3,
   "id": "9e4d1f15-d8cb-4e5d-a12e-e2f63c40cff5",
   "metadata": {},
   "outputs": [],
   "source": [
    "long_stopwords = ['score', 'teaspoon', 'tablespoons', 'chopped', 'fresh',\n",
    "                'tablespoon', 'large', 'ground', 'teaspoons', 'finely',\n",
    "                'ounces', 'sliced', 'kosher', 'plus', 'cut', 'inch',\n",
    "                'divided', 'juice', 'unsalted', 'black', 'grated',\n",
    "                'freshly', 'pound', 'red', 'peeled', 'thinly', 'ounce',\n",
    "                'leaves', 'white', 'whole', 'pounds', 'extra',\n",
    "                'vinegar', 'medium', 'water', 'small', 'virgin','purpose',\n",
    "                'pieces', 'vegetable', 'coarsely', 'dried', 'seeds',\n",
    "                'halved', 'minced', 'goes', 'with', 'baking', 'packed',\n",
    "                'stick', 'serving', 'thick', 'slices', 'extract',\n",
    "                'optional', 'dry', 'temperature', 'room', 'brown', 'trimmed',\n",
    "                'sea', 'heavy', 'crushed', 'lengthwise', 'zest', 'toasted',\n",
    "                'removed', 'cubes', 'preferably', 'diced', 'drained', 'fren',\n",
    "                'chilled', 'broth', 'light', 'coarse',\n",
    "                'pinch','sticks', 'taste', 'hot', 'unsweetened', 'flakes',\n",
    "                'sweet', 'crosswise', 'stems', 'half','melted', 'dark',\n",
    "                'granulated', 'low', 'quartered', 'pitted', 'flat', 'pan', 'torn', 'pure',\n",
    "                'seeded', 'rinsed', 'baby', 'peel', 'italian', 'bunch', 'fine', 'yellow',\n",
    "                'fat', 'paste', 'plain', 'head', 'ripe', 'bay', 'sodium', 'boneless',\n",
    "                'sour', 'lightly', 'softened', 'strips', 'thawed', 'whipping',\n",
    "                'crumbled', 'thin', 'bell', 'smoked','yolks', 'beaten', 'cooked',\n",
    "                'dijon', 'ml', 'package', 'cored', 'piece', 'shredded', 'spray',\n",
    "                'golden', 'skin', 'roasted', 'raw', 'bittersweet', 'tbsp', 'powdered',\n",
    "                'total', 'fillets', 'additional', 'grams', 'cold',\n",
    "                'ribs', 'long',  'style', 'separated', 'skinless',\n",
    "                'flaky', 'bone', 'nonstick', 'greek', 'stalks',\n",
    "                'mixed', 'canned', 'parts', 'drizzling',\n",
    "                'see', 'wheat', 'tender', 'whites', 'frying', 'scrubbed', 'unpeeled',\n",
    "                'bunches', 'split', 'one', 'firm', 'cooking', 'gold',\n",
    "                'reduced', 'de', 'well', 'equipment', 'dusting', 'stemmed',\n",
    "                'thermometer', 'deep', 'size', 'asian', 'rounds',\n",
    "                'quality', 'inches', 'spice', 'shelled', 'accompaniment', 'semisweet',\n",
    "                'allspoon', 'boiling', 'cracked', 'needed',\n",
    "                'diagonal', 'supermarkets', 'soft', 'foods', 'stores', 'jar',\n",
    "                'food', 'old', 'english', 'distilled',\n",
    "                'homemade', 'quart', 'loosely', 'loaf', 'markets',\n",
    "                'sprinkling', 'regular', 'hulled', 'center', 'sharp', 'unbleached',\n",
    "                'assorted', 'sifted', 'dice', 'seedless', 'chops', 'free', 'scant',\n",
    "                'short', 'spanish', 'seasoning',  'prepared',\n",
    "                'use', 'ingredient', 'florets', 'pods', 'simple', 'blanched',\n",
    "                'info', 'good', 'active', 'wild', 'packages', 'grill',\n",
    "                'tart', 'shaved', 'parchment', 'french', 'cubed', 'hard',\n",
    "                'tough', 'fresno', 'rings', 'bitters', 'sheets', 'minutes',\n",
    "                'pressed', 'star', 'desired', 'roast', 'pink', 'mix', 'crust',\n",
    "                'stalk', 'chinese', 'maldon', 'bite', 'dish', 'turkish', 'tea',\n",
    "                'club', 'soaked', 'bottled', 'fronds', 'slightly', 'high', 'candy',\n",
    "                'skinned', 'handful', 'flavored', 'california', 'seasoned', 'blade',\n",
    "                'broken', 'ends', 'swiss', 'pints', 'two', 'dates',\n",
    "                'greasing', 'mill', 'blue', 'new', 'romaine',\n",
    "                'cured', 'tops', 'left', 'specialty', 'unflavored',\n",
    "                'cleaned',  'smith', 'granny', 'boiled',\n",
    "                'cooks', 'romano', 'recipe', 'bags', 'generous', 'quarts', 'fashioned',\n",
    "                'sheet', 'surface', 'marjoram', 'persian', 'sparkling', 'bus',\n",
    "                'end', 'chard', 'metal', 'box', 'diameter', 'slivered',\n",
    "                'heirloom', 'purchased', 'mexican',\n",
    "                'mini', 'bones', 'husked', 'picked', 'kitchen', 'fl',\n",
    "                'preserves', 'skewers', 'shell', 'hearts',\n",
    "                'dashes', 'container', 'serve', 'hothouse', 'chuck', 'nam',\n",
    "                'ancho', 'pickled',\n",
    "                'uncooked', 'slice', 'jack', 'including', 'called', 'also',\n",
    "                'rolls', 'pestle', 'bottom', 'mortar', 'casings',\n",
    "                'cutter',  'part', 'rind', 'wooden',\n",
    "                'pans', 'muffin', 'árbol', 'threads','crystal',\n",
    "                'matchsticks', 'intact', 'aleppo',\n",
    "                'crusty', 'top', 'flaked', 'navel',\n",
    "                'pearl', 'quick', 'julienned',\n",
    "                'angostura', 'com', 'read', 'snap', 'blood',\n",
    "                'made', 'mashed', 'meal', 'fry',  'graham',\n",
    "                'crimini',  'coloring', 'outer',\n",
    "                'slicer', 'diamond', 'dutch', 'like', 'creamy', 'attached',\n",
    "                'spicy', 'meyer', 'rose', 'candied', 'lean',\n",
    "                'firmly', 'fontina', 'sun', 'adjustable', 'shucked',\n",
    "                'envelope', 'monterey', 'peeler', 'liquid', 'full',\n",
    "                'warmed', 'eye', 'tip', 'butt', 'washed', 'korean', 'pepitas',\n",
    "                'maker', 'aged', 'boston', 'processor', 'side', 'springform',\n",
    "                'fitted', 'bowl', 'electric', 'dash',  'roasting',\n",
    "                'four', 'mandoline', 'tuscan','crystallized',\n",
    "                'twist', 'cheesecloth', 'neutral', 'grade', 'diagonally',\n",
    "                'accompaniments', 'core', 'stem', 'brand', 'drops', 'using',\n",
    "                'rising', 'cremini', 'plastic',  'lady',\n",
    "                'sturdy', 'eow', 'round', 'qt', 'shallow', 'ceramic', 'glass',\n",
    "                'storebought', 'reposado',  'grand', 'pat', 'depending',\n",
    "                'wheels', 'salted', 'sweetness', 'amaro', 'marnier', 'averna', 'dehydrated',\n",
    "                'wheel', 'amontillado','steamed', 'skirt', 'mixer', 'concentrate', 'rolled', 'containers',\n",
    "                'poblano', 'glass', 'shaken', 'sometimes', 'grilled', 'found',\n",
    "                'jumbo', 'scotch', 'escarole', 'horizontally',\n",
    "                'self', 'gala', 'stone', 'rounded',\n",
    "                'least', 'vegetables', 'removable', 'grinder',\n",
    "                'skillet', 'string', 'strained', 'percent', 'sel',\n",
    "                'pot', 'morton', 'fingerling',\n",
    "                'wedge', 'knife', 'flank', 'grand', 'delicious',\n",
    "                'process', 'marnier', 'spears', 'poppy', 'purple',\n",
    "                'cane',  'matzo', 'skim', 'square', 'heaping',\n",
    "                'fleur', 'racks', 'lengths', 'qt', 'necessary', 'choice',\n",
    "                'semolina', 'sirloin', 'topping',\n",
    "                'napa', 'fresco', 'ruby', 'rack', 'section', 'clean',\n",
    "                'shaped','overnight',\n",
    "                'cm', 'jars', 'pla',  'tips', 'hungarian', 'port', 'shavings',\n",
    "                'little',  'molds', 'verts', 'grater', 'endive',\n",
    "                'stand', 'excess',\n",
    "                'lump', 'another',\n",
    "                'favorite',  'per', 'phyllo', 'palm', 'wheel',\n",
    "                'notes', 'stirred', 'cointreau', 'belgian', 'refrigerated',\n",
    "                'puree', 'caps', 'littleneck', 'substitute',\n",
    "                'glaze', 'table', 'bibb', 'bottles',\n",
    "                'grilling', 'farro',  'day', 'curly', 'lady',\n",
    "                'lowfat', 'bosc', 'five', 'spatula', 'baked',\n",
    "                'crustless',  'iron', 'brewed', 'jelly', 'guajillo', 'strong',\n",
    "                'smooth', 'weights', 'attachment', 'solid',\n",
    "                'back', 'bits', 'wax', 'starch', 'range', 'fluted',\n",
    "                'squares',  'rolling', 'sanding', 'labeled', 'combination',\n",
    "                'slab', 'tails', 'foil', 'skins', 'links',\n",
    "                'iceberg', 'lindt',\n",
    "                'layers', 'tied',  'tube', 'leaving', 'latin',\n",
    "                'juices', 'online', 'salata', 'less',\n",
    "                'heart', 'thigh', 'grits', 'cutlets', 'crusts', 'live',\n",
    "                'double', 'chervil', 'pop', 'shallow',\n",
    "                'matchstick', 'measuring', 'hour', 'best', 'middle',\n",
    "                'sold','savoy',\n",
    "                'wheels', 'balls',  'depending', 'coating', 'ball',\n",
    "                'young', 'breakfast', 'color', 'block',\n",
    "                'leftover', 'fuji', 'anjou', 'seltzer', 'thickly',\n",
    "                'demerara', 'plate', 'grind', 'better', 'cracker',\n",
    "                'sized', 'cast', 'american', 'envelopes', 'rotisserie',\n",
    "                'cube', 'indian', 'duty', 'slender', 'preserved', 'exceed',\n",
    "                'castelvetrano', 'wrappers', 'special', 'quarters', 'blanc',\n",
    "                'vegan', 'frenched', 'rabe', 'offset', 'cotija', 'edible', 'eastern',\n",
    "                'heat', 'honeydew', 'acting', 'chanterelle', 'juniper', 'many', 'turbinado',\n",
    "                'husks', 'still', 'lavender', 'snapper', 'mahi', 'beefsteak', 'malt', 'wafer',\n",
    "                'kabocha', 'york', 'spelt', 'dressing', 'milliliter', 'fried', 'blanco',\n",
    "                'caster', 'blackstrap', 'basic', 'butterflied', 'bartlett',\n",
    "                'lima', 'kg', 'spiced', 'summer', 'crema', 'pinches', 'triple',\n",
    "                'larger', 'evaporated', 'striped', 'marinated', 'challah', 'cooker',\n",
    "                'fruity', 'without', 'debearded', 'batch',\n",
    "                'semi', 'snow', 'grainy', 'aluminum', 'wrapped',\n",
    "                'perugina', 'three', 'currant', 'julienne', 'layer', 'key',\n",
    "                'splash', 'casing', 'twists', 'bonnet', 'thirds', 'flower',\n",
    "                'rimmed', 'provolone', 'moons',\n",
    "                'premium', 'st',  'calvados', 'sec', 'lukewarm',\n",
    "                'blossoms', 'pod',  'oven',  'bella', 'fully',\n",
    "                'marcona',   'mixture',\n",
    "                'usually', 'flaxseed', 'disposable', 'jarred', 'tin',\n",
    "                'holes', 'recipelink', 'andouille', 'bias', 'ribbons', 'ricer',\n",
    "                'clear', 'colors', 'mission', 'delicata', 'winter', 'fleshed', 'imported',\n",
    "                'king', 'tentacles', 'backbone',\n",
    "                'san', 'scraped', 'meaty', 'pullman', 'eight',\n",
    "                'whisked', 'wafers', 'spoon',\n",
    "                'bulgur', 'according', 'stout', 'mexico', 'pounded',\n",
    "                'segments', 'wood', 'unfiltered', 'shaoxing', 'drumstick', 'verde',\n",
    "                'lid', 'sorbet', 'wiped', 'roll', 'pith', 'paddle',\n",
    "                'flameproof', 'kirby', 'ear', 'flesh', 'several', 'bowls', 'dipping', 'tail', 'passion', 'tiny',\n",
    "                'six', 'gem', 'boned', 'applewood',\n",
    "                'variety', 'reserving', 'rustic', 'bodies', 'safflower',\n",
    "                'colored', 'strings', 'shanks', 'bar', 'log', 'work',\n",
    "               'amber', 'microplane', 'cassis', 'defrosted',\n",
    "                'eyed', 'look', 'den', 'shank', 'la', 'blossom', 'sauvignon',\n",
    "                'robust', 'loose',  'shoots', 'blender', 'make',\n",
    "                'thaw', 'silken', 'fire', 'slow', 'icing', 'whisk',\n",
    "                'ale', 'bitter', 'rainbow', 'gram',\n",
    "                'juiced', 'sieve', 'press', 'masa', 'gouda', 'marzano',\n",
    "                'sides', 'pin', 'bundt', 'big', 'need', 'honeycrisp',\n",
    "                'cutters', 'rendered', 'walla', 'citrus', 'pernod', 'roots',\n",
    "                'flavor',  'aperol', 'breads', 'manila', 'hemp', 'known',\n",
    "                 'persimmons', 'decorating', 'maui', 'irish',\n",
    "                'hours', 'added',  'standard', 'directions',\n",
    "                'spread', 'brush', 'di',  'packaged', 'verbena',\n",
    "                'malted', 'single', 'bonito', 'gum', 'charcoal', 'sorghum', 'herbes',\n",
    "                'reserve', 'arctic', 'pickling', 'madras',\n",
    "                'first', 'crispy', 'based', 'fluid', 'gray', 'pits',\n",
    "                'treviso', 'dissolved', 'frosting', 'rub',\n",
    "                'marked', 'niçoise', 'bottomed', 'add', 'chartreuse', 'pectin', 'pulp',\n",
    "                'bird', 'dredging', 'stuffed',\n",
    "                'guanciale', 'milliliters', 'mature', 'sift', 'endives', 'flax', 'find', 'farfalle',\n",
    "                'forest', 'calabrian', 'cottage', 'pasilla', 'thickness', 'griddle',\n",
    "                'fuyu', 'drumettes', 'heatproof',\n",
    "                'franks', 'trans', 'puréed','together',\n",
    "                'anaheim', 'farm', 'corned', 'stuffing',\n",
    "                'proof', 'dust', 'resealable', 'buttering', 'individual',\n",
    "                'ramps', 'holland', 'mesh',  'lillet',\n",
    "                'capacity', 'classic', 'kind', 'tonic', 'steel', 'achiote',\n",
    "                'minute', 'vera', 'grey',\n",
    "                'planks', 'machine', 'measured', 'twine', 'basket', 'globe',\n",
    "                'xanthan', 'mâche', 'wash', 'lebanese', 'cara',\n",
    "                'sealable', 'deli', 'kieasa', 'mold', 'picholine', 'bakers',\n",
    "                'buttered', 'enough', 'large', 'light', 'bag', 'of', 'pinch', 'mixture', 'ground', 'dried', 'from','piece',\n",
    "                'boneless', 'cooked', 'steamed', 'easy-cook', 'boiled', 'minced', '-', 'or', 'and', 'sprig', 'weight', 'readycooked', 'x', 'tub', 'co', 'cup', 'just', 'a', 'over','tsp', 'each', 'in', 'pkt',\n",
    "                'really', 'walnutsize', 'few', 'can', 'pointed', 'pack', 'about', 'packet', 'extramature', 'knob','rasher',\n",
    "                'semidried','vegetarian' 'alternative', 'readytoeat', 'thumbsize', 'deseeded', 'crunchy', 'reserved', 'the', 'must', 'strip',\n",
    "                'roughly', 'halffat','very','semiskimmed','family','carton','frozen','organic','peasized', 'blob','provence','stoned',\n",
    "                'cob','nandouble','goodquality','readytobake','prime','ordinary', 'vegitarian','zeast','nanbone','nancarton','drizzle','autumn','fruit','we', 'used',\n",
    "                'garden','mediumdry','sachet','quite','creamed','oz','pared','freerange','redskinned','bought','sashimigrade', 'flavoured','wrap', 'podded', 'finger',\n",
    "                'alpro', 'drink','dribble','other','japanese', 'such','herb','eating',\n",
    "                'freezedried','readytrimmed','sushigrade','for','quickcook','mild',\n",
    "                'nanfrozen', 'readysliced','skinon','combined','sweetheart','thumbsized','vacuumpacked','chunk', 'heaped', 'cadburys', 'plenty', 'rindless', 'coldpressed', 'punnet', 'drop', 'fullfat',\n",
    "                'jewelled', 'extralean', 'bottle', 'level', 'grating', 'precooked', 'skinon', 'bonein',\n",
    "                'unroasted', 'ovenready', 'pint', 'drycured', 'peppered', 'freezedried', 'fastaction',\n",
    "                'readymade', 'shellon', 'readysliced', 'but', 'greekstyle', 'dollop', 'pouch', 'mild', 'broad', 'mediumsized', 'readyroasted', 'unsmoked',\n",
    "                'easybake', 'lot', 'johns', 'hotsmoked', 'british', 'feather', 'your', 'favourite', 'filling', 'unskinned', 'morello','squeeze','chunky','eg','fingerlength',\n",
    "                'smallmedium','rizzazz','glutenfree','reducedfat','doublepodded', 'cloves of',\n",
    "               ]"
   ]
  },
  {
   "cell_type": "markdown",
   "id": "c527c1bb-a976-4f9b-9594-97687fdd15da",
   "metadata": {},
   "source": [
    "# Code"
   ]
  },
  {
   "cell_type": "code",
   "execution_count": null,
   "id": "e1895920-ccd4-439e-8c53-65ad05c372f5",
   "metadata": {},
   "outputs": [],
   "source": []
  },
  {
   "cell_type": "code",
   "execution_count": 4,
   "id": "266a54ce-9afc-4580-9775-20bc4802afeb",
   "metadata": {},
   "outputs": [],
   "source": [
    "# cleaned_df = all_cuisine_df.copy()\n",
    "# cleaned_df['lemmatized'] = cleaned_df['ingredients'].apply(lemmatizer)\n",
    "# cleaned_df['no_stop'] = cleaned_df['lemmatized'].apply(removed_stopwords)"
   ]
  },
  {
   "cell_type": "code",
   "execution_count": 5,
   "id": "9bfbb320-9b88-49be-adc6-3a7ae932a58d",
   "metadata": {},
   "outputs": [
    {
     "data": {
      "text/plain": [
       "'1 tbsp ,olive oil, 2 ,onions,, chopped, 3 medium  ,carrots,, chopped, 1 tbsp  ,thyme leaves,, roughly chopped, 1.4l ,chicken stock, 300g ,leftover roast chicken,, shredded and skin removed, 200g ,frozen peas, 3 tbsp ,Greek yogurt, 1  ,garlic clove,, crushed, squeeze of ,lemon juice, cheese scone,, to serve (see tips below), '"
      ]
     },
     "execution_count": 5,
     "metadata": {},
     "output_type": "execute_result"
    }
   ],
   "source": [
    "df = all_cuisine_df.reset_index()\n",
    "df['specific_ingredients'][0]"
   ]
  },
  {
   "cell_type": "code",
   "execution_count": 6,
   "id": "efc05212-8aba-4587-809a-259868cd8d4f",
   "metadata": {},
   "outputs": [],
   "source": [
    "def cleaner(text):\n",
    "    strip_text = []\n",
    "    text = text.replace(' ,', ' ') #.replace(',,', ',')\n",
    "\n",
    "    new_lst = []\n",
    "    for word in text.split():\n",
    "        if word.isdigit():\n",
    "            new_string = ', ' + word\n",
    "            new_lst.append(new_string)\n",
    "        else:\n",
    "            new_lst.append(word)\n",
    "            # for word in text.split():\n",
    "    #     strip_text.append(word.strip())\n",
    "    return ' '.join(new_lst)"
   ]
  },
  {
   "cell_type": "code",
   "execution_count": 7,
   "id": "bb2cec5b-1d8e-4d48-abce-5b1ce59fd103",
   "metadata": {},
   "outputs": [
    {
     "data": {
      "text/plain": [
       "', 1 tbsp olive oil, , 2 onions,, chopped, , 3 medium carrots,, chopped, , 1 tbsp thyme leaves,, roughly chopped, 1.4l chicken stock, 300g leftover roast chicken,, shredded and skin removed, 200g frozen peas, , 3 tbsp Greek yogurt, , 1 garlic clove,, crushed, squeeze of lemon juice, cheese scone,, to serve (see tips below),'"
      ]
     },
     "execution_count": 7,
     "metadata": {},
     "output_type": "execute_result"
    }
   ],
   "source": [
    "df['modified'] = df['specific_ingredients'].apply(cleaner)\n",
    "df['modified'][0]"
   ]
  },
  {
   "cell_type": "code",
   "execution_count": 8,
   "id": "164e813f-f4c4-4d17-bb8c-7aaf490e6b45",
   "metadata": {},
   "outputs": [],
   "source": [
    "def ing_list(sample_txt):\n",
    "    elements = []\n",
    "    # for punc in string.punctuation:\n",
    "    #     sample_txt = sample_txt.replace(punc,'')\n",
    "    for word in sample_txt.split(','):\n",
    "        elements.append(str(word))\n",
    "    new_lst = []\n",
    "\n",
    "    for w in elements:\n",
    "        if w=='' or w==' ':\n",
    "            pass\n",
    "        else:\n",
    "            new_lst.append(w.strip())\n",
    "\n",
    "\n",
    "    \n",
    "    return new_lst\n",
    "\n",
    "df['modified'] = df['modified'].apply(ing_list)"
   ]
  },
  {
   "cell_type": "code",
   "execution_count": 9,
   "id": "d671fed7-0ea9-4186-8859-d455bd97ae20",
   "metadata": {},
   "outputs": [
    {
     "data": {
      "text/plain": [
       "['1 tbsp olive oil',\n",
       " '2 onions',\n",
       " 'chopped',\n",
       " '3 medium carrots',\n",
       " 'chopped',\n",
       " '1 tbsp thyme leaves',\n",
       " 'roughly chopped',\n",
       " '1.4l chicken stock',\n",
       " '300g leftover roast chicken',\n",
       " 'shredded and skin removed',\n",
       " '200g frozen peas',\n",
       " '3 tbsp Greek yogurt',\n",
       " '1 garlic clove',\n",
       " 'crushed',\n",
       " 'squeeze of lemon juice',\n",
       " 'cheese scone',\n",
       " 'to serve (see tips below)']"
      ]
     },
     "execution_count": 9,
     "metadata": {},
     "output_type": "execute_result"
    }
   ],
   "source": [
    "df['modified'][0]"
   ]
  },
  {
   "cell_type": "code",
   "execution_count": 10,
   "id": "0f1a5cc0-9cb5-497a-af8d-16c05a173cd4",
   "metadata": {},
   "outputs": [],
   "source": [
    "sw_for_september = ['chopped','roughly','roughly chopped','crushed']"
   ]
  },
  {
   "cell_type": "code",
   "execution_count": 11,
   "id": "3410c157-968a-4a5f-91c3-24096df2e708",
   "metadata": {},
   "outputs": [],
   "source": [
    "def remove_sw_sep(lst):\n",
    "    no_stopwords = []\n",
    "    for text in lst:\n",
    "        if text not in sw_for_september:\n",
    "            no_stopwords.append(text)\n",
    "    return no_stopwords\n",
    "    \n",
    "    "
   ]
  },
  {
   "cell_type": "code",
   "execution_count": 12,
   "id": "1b354c47-671a-47af-a91c-9de3e0237c78",
   "metadata": {},
   "outputs": [
    {
     "data": {
      "text/plain": [
       "['1 tbsp olive oil',\n",
       " '2 onions',\n",
       " '3 medium carrots',\n",
       " '1 tbsp thyme leaves',\n",
       " '1.4l chicken stock',\n",
       " '300g leftover roast chicken',\n",
       " 'shredded and skin removed',\n",
       " '200g frozen peas',\n",
       " '3 tbsp Greek yogurt',\n",
       " '1 garlic clove',\n",
       " 'squeeze of lemon juice',\n",
       " 'cheese scone',\n",
       " 'to serve (see tips below)']"
      ]
     },
     "execution_count": 12,
     "metadata": {},
     "output_type": "execute_result"
    }
   ],
   "source": [
    "df['modified'] = df['modified'].apply(remove_sw_sep)\n",
    "df['modified'][0]"
   ]
  },
  {
   "cell_type": "code",
   "execution_count": 13,
   "id": "e43237a3-df8e-463f-9d31-cb0550023aeb",
   "metadata": {},
   "outputs": [],
   "source": [
    "import requests"
   ]
  },
  {
   "cell_type": "code",
   "execution_count": 14,
   "id": "648176c2-36be-4a37-9ac7-c27bfef3e116",
   "metadata": {},
   "outputs": [],
   "source": [
    "\n",
    "def testing_api(ingredient_col):\n",
    "    url = \"https://zestful.p.rapidapi.com/parseIngredients\"\n",
    "    \n",
    "    payload = { \"ingredients\": ingredient_col}\n",
    "    headers = {\n",
    "    \t\"content-type\": \"application/json\",\n",
    "    \t\"X-RapidAPI-Key\": \"4acb036e43mshcc9cdc7d8cd744dp1219d4jsn80eb52df264f\",\n",
    "    \t\"X-RapidAPI-Host\": \"zestful.p.rapidapi.com\"\n",
    "    }\n",
    "    \n",
    "    response = requests.post(url, json=payload, headers=headers)\n",
    "    test_dict = dict(response.json())\n",
    "\n",
    "    \n",
    "    product_lst = []\n",
    "    quantity_lst = []\n",
    "    unit_lst = []\n",
    "\n",
    "    for ing in test_dict['results']:\n",
    "        product=ing['ingredientParsed']['product']\n",
    "        quantity=ing['ingredientParsed']['quantity']\n",
    "        unit=ing['ingredientParsed']['unit']\n",
    "\n",
    "        product_lst.append(product)\n",
    "        quantity_lst.append(quantity)\n",
    "        unit_lst.append(unit)\n",
    "        \n",
    "    final_dict = {'product': product_lst, 'quantity': quantity_lst, 'unit': unit_lst}\n",
    "\n",
    "    return final_dict"
   ]
  },
  {
   "cell_type": "code",
   "execution_count": 15,
   "id": "57ca84e2-3399-401f-8ba9-296cc523fe07",
   "metadata": {},
   "outputs": [],
   "source": [
    "pd.set_option('display.max_colwidth', 1500)"
   ]
  },
  {
   "cell_type": "code",
   "execution_count": null,
   "id": "0042fc51-396b-4e78-81c2-fa650244e388",
   "metadata": {},
   "outputs": [],
   "source": [
    "# df['api_test'] = df['mod_3'][0:5].apply(testing_api)\n"
   ]
  },
  {
   "cell_type": "code",
   "execution_count": null,
   "id": "94ac4643-b789-494e-932a-209987e527f9",
   "metadata": {},
   "outputs": [],
   "source": [
    "%%time\n",
    "\n",
    "lst1=[]\n",
    "lst2=[]\n",
    "lst3=[]\n",
    "\n",
    "for i in range(200):\n",
    "    elem1 = testing_api(df['modified'][i])['product']\n",
    "    elem2 = testing_api(df['modified'][i])['quantity']\n",
    "    elem3 = testing_api(df['modified'][i])['unit']\n",
    "    lst1.append(elem1)\n",
    "    lst2.append(elem2)\n",
    "    lst3.append(elem3)\n",
    "\n"
   ]
  },
  {
   "cell_type": "code",
   "execution_count": null,
   "id": "dd6db8ad-a84e-422a-8483-f08fdf42b136",
   "metadata": {},
   "outputs": [],
   "source": [
    "for i in range():\n",
    "    elem1 = testing_api(df['modified'][i])['product']\n",
    "    elem2 = testing_api(df['modified'][i])['quantity']\n",
    "    elem3 = testing_api(df['modified'][i])['unit']\n",
    "    lst1.append(elem1)\n",
    "    lst2.append(elem2)\n",
    "    lst3.append(elem3)\n"
   ]
  },
  {
   "cell_type": "code",
   "execution_count": null,
   "id": "f5311b4b-9961-48da-8e84-a14b9d594077",
   "metadata": {},
   "outputs": [],
   "source": []
  },
  {
   "cell_type": "code",
   "execution_count": null,
   "id": "daa34e24-9f1e-431c-a3e5-c97e2224df38",
   "metadata": {},
   "outputs": [],
   "source": []
  },
  {
   "cell_type": "code",
   "execution_count": null,
   "id": "341612bd-a2a8-47c8-9e2d-400c0f42bfe2",
   "metadata": {},
   "outputs": [],
   "source": [
    "lst1=[]\n",
    "lst2=[]\n",
    "lst3=[]\n",
    "\n",
    "for i in range(len(df)):\n",
    "    elem1 = testing_api(df['modified'][i])['product']\n",
    "    elem2 = testing_api(df['modified'][i])['quantity']\n",
    "    elem3 = testing_api(df['modified'][i])['unit']\n",
    "    lst1.append(elem1)\n",
    "    lst2.append(elem2)\n",
    "    lst3.append(elem3)\n",
    "\n",
    "\n",
    "ing_dict = {'product':lst1, 'quantity':lst2, 'unit':lst3}"
   ]
  },
  {
   "cell_type": "code",
   "execution_count": null,
   "id": "eb3cd1d6-778c-4920-ab95-8aa4b121af51",
   "metadata": {},
   "outputs": [],
   "source": [
    "ing_dict = pd.DataFrame(ing_dict)"
   ]
  },
  {
   "cell_type": "code",
   "execution_count": null,
   "id": "3d47fab4-9bb0-4bb6-aea2-c271b5e86146",
   "metadata": {
    "scrolled": true
   },
   "outputs": [],
   "source": [
    "# df['product'] = df['modified'].apply(lambda x: testing_api(df['modified'].iloc(x))['product'])\n",
    "#df['quantity'] = df['modified'].apply(testing_api(df['modified'][i])['quantity'])\n",
    "#df['unit'] = df['modified'].apply(testing_api(df['modified'][i])['unit'])"
   ]
  },
  {
   "cell_type": "code",
   "execution_count": null,
   "id": "2570c3a3-552d-4ec0-ac3e-266afbfa815c",
   "metadata": {},
   "outputs": [],
   "source": [
    "    final_df= pd.concat([df,ing_dict], axis=1)"
   ]
  },
  {
   "cell_type": "code",
   "execution_count": null,
   "id": "430c0c6b-33af-46f7-a61a-8295b5150453",
   "metadata": {},
   "outputs": [],
   "source": [
    "final_df"
   ]
  },
  {
   "cell_type": "code",
   "execution_count": null,
   "id": "504fca88-4eb7-42b8-a882-20d951d0da96",
   "metadata": {},
   "outputs": [],
   "source": []
  }
 ],
 "metadata": {
  "kernelspec": {
   "display_name": "Python 3 (ipykernel)",
   "language": "python",
   "name": "python3"
  },
  "language_info": {
   "codemirror_mode": {
    "name": "ipython",
    "version": 3
   },
   "file_extension": ".py",
   "mimetype": "text/x-python",
   "name": "python",
   "nbconvert_exporter": "python",
   "pygments_lexer": "ipython3",
   "version": "3.10.6"
  }
 },
 "nbformat": 4,
 "nbformat_minor": 5
}
