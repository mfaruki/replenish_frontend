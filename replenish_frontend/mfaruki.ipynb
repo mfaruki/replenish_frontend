{
 "cells": [
  {
   "cell_type": "code",
   "execution_count": null,
   "id": "b9ef6cb9-1edf-48e2-8de9-b7a01d501a91",
   "metadata": {},
   "outputs": [],
   "source": [
    "import streamlit as st\n",
    "from wordcloud import WordCloud\n",
    "import matplotlib.pyplot as plt\n",
    "import pandas as pd\n",
    "import string"
   ]
  },
  {
   "cell_type": "code",
   "execution_count": null,
   "id": "a1bc9670-298b-4071-b3ac-d1b1abbc4f43",
   "metadata": {},
   "outputs": [],
   "source": [
    "model_df = pd.read_csv('../replenish_frontend/raw_data/model_df.csv', index_col=0)"
   ]
  },
  {
   "cell_type": "code",
   "execution_count": null,
   "id": "dca64f4c-ec65-4529-a850-516f7090fc83",
   "metadata": {},
   "outputs": [],
   "source": [
    "df = model_df\n"
   ]
  },
  {
   "cell_type": "code",
   "execution_count": null,
   "id": "d2d8ab01-c482-4263-be61-551746760dab",
   "metadata": {},
   "outputs": [],
   "source": [
    "model_df = pd.read_csv('../replenish_frontend/raw_data/model_df.csv', index_col=0)\n",
    "df = model_df\n",
    "def ing_list(sample_txt):\n",
    "    elements = []\n",
    "    for punc in string.punctuation:\n",
    "        sample_txt = sample_txt.replace(punc,'')\n",
    "    for word in sample_txt.split():\n",
    "        elements.append(str(word))\n",
    "    return elements\n",
    "\n",
    "def word_cloud(index):\n",
    "    df['final_ingredients'] = df['final_ingredients'].apply(ing_list)\n",
    "    \n",
    "    list_of_ing = df.groupby('cluster')['final_ingredients'].sum()[0]\n",
    "    string_of_ing = ', '.join(list_of_ing)\n",
    "    \n",
    "    wordcloud = WordCloud(background_color='rgba(255,255,255,0)').generate(string_of_ing)\n",
    "    # Display the generated image:\n",
    "    plt.imshow(wordcloud, interpolation='bilinear')\n",
    "    plt.gcf().set_facecolor(\"white\")\n",
    "    plt.axis(\"off\")\n",
    "    plt.show()\n",
    "    st.pyplot()\n"
   ]
  },
  {
   "cell_type": "code",
   "execution_count": null,
   "id": "18281bfe-09ff-419e-b8e5-1b8d23c82743",
   "metadata": {},
   "outputs": [],
   "source": [
    "type(df['final_ingredients'][0])"
   ]
  },
  {
   "cell_type": "code",
   "execution_count": null,
   "id": "060da3d3-3f7e-48c1-aa26-3ca573eae6cc",
   "metadata": {
    "scrolled": true
   },
   "outputs": [],
   "source": [
    "def ing_list(sample_txt):\n",
    "    elements = []\n",
    "    for punc in string.punctuation:\n",
    "        sample_txt = sample_txt.replace(punc,'')\n",
    "    for word in sample_txt.split():\n",
    "        elements.append(str(word))\n",
    "    return elements\n",
    "\n",
    "df['final_ingredients'] = df['final_ingredients'].apply(ing_list)"
   ]
  },
  {
   "cell_type": "code",
   "execution_count": null,
   "id": "b663f94b-60bb-4dfb-b5c7-a402e67798d5",
   "metadata": {},
   "outputs": [],
   "source": [
    "df"
   ]
  },
  {
   "cell_type": "code",
   "execution_count": null,
   "id": "4904acc7-cf95-42ad-97b4-5f4fa72f4e78",
   "metadata": {},
   "outputs": [],
   "source": [
    "list_of_ing = df.groupby('cluster')['final_ingredients'].sum()[0]"
   ]
  },
  {
   "cell_type": "code",
   "execution_count": null,
   "id": "4762e910-9b67-44d0-819d-6ba829978fe9",
   "metadata": {},
   "outputs": [],
   "source": [
    "string_of_ing = ', '.join(list_of_ing)\n"
   ]
  },
  {
   "cell_type": "code",
   "execution_count": null,
   "id": "848e4686-1a57-44e8-b3b0-6c3c82b7500c",
   "metadata": {},
   "outputs": [],
   "source": [
    "\n",
    "wordcloud = WordCloud(background_color='rgba(255,255,255,0)').generate(string_of_ing)\n",
    "\n",
    "# Display the generated image:\n",
    "plt.imshow(wordcloud, interpolation='bilinear')\n",
    "plt.gcf().set_facecolor(\"white\")\n",
    "plt.axis(\"off\")\n",
    "plt.show()\n",
    "st.pyplot()"
   ]
  },
  {
   "cell_type": "code",
   "execution_count": null,
   "id": "c9ea0e41-1b8f-403f-8e70-cc5c37436743",
   "metadata": {},
   "outputs": [],
   "source": []
  },
  {
   "cell_type": "code",
   "execution_count": null,
   "id": "c0f06a4e-4739-475e-9c39-d0a112c94fc2",
   "metadata": {},
   "outputs": [],
   "source": []
  }
 ],
 "metadata": {
  "kernelspec": {
   "display_name": "Python 3 (ipykernel)",
   "language": "python",
   "name": "python3"
  },
  "language_info": {
   "codemirror_mode": {
    "name": "ipython",
    "version": 3
   },
   "file_extension": ".py",
   "mimetype": "text/x-python",
   "name": "python",
   "nbconvert_exporter": "python",
   "pygments_lexer": "ipython3",
   "version": "3.10.6"
  }
 },
 "nbformat": 4,
 "nbformat_minor": 5
}
